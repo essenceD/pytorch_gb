{
 "cells": [
  {
   "cell_type": "code",
   "execution_count": 1,
   "metadata": {},
   "outputs": [],
   "source": [
    "import torch\n",
    "import numpy as np"
   ]
  },
  {
   "cell_type": "code",
   "execution_count": 2,
   "metadata": {},
   "outputs": [
    {
     "data": {
      "text/plain": [
       "tensor([[[0.5470, 0.0529, 0.1411, 0.1802, 0.6769],\n",
       "         [0.9297, 0.0542, 0.4287, 0.5877, 0.9818],\n",
       "         [0.7895, 0.6046, 0.0298, 0.6047, 0.3096],\n",
       "         [0.2880, 0.5222, 0.8619, 0.0921, 0.4833]],\n",
       "\n",
       "        [[0.7121, 0.6944, 0.3056, 0.6873, 0.3792],\n",
       "         [0.0486, 0.8438, 0.5499, 0.9812, 0.0215],\n",
       "         [0.3294, 0.7302, 0.1312, 0.7228, 0.2353],\n",
       "         [0.4042, 0.6822, 0.9641, 0.3723, 0.4117]],\n",
       "\n",
       "        [[0.9883, 0.4195, 0.7218, 0.1472, 0.2721],\n",
       "         [0.3123, 0.9089, 0.0907, 0.0727, 0.6995],\n",
       "         [0.2787, 0.9776, 0.1942, 0.2020, 0.3111],\n",
       "         [0.7782, 0.5417, 0.0497, 0.2736, 0.4019]]])"
      ]
     },
     "execution_count": 2,
     "metadata": {},
     "output_type": "execute_result"
    }
   ],
   "source": [
    "# Создайте случайный FloatTensor размера 3x4x5\n",
    "sample = torch.rand(3, 4, 5).type(torch.float)\n",
    "sample"
   ]
  },
  {
   "cell_type": "code",
   "execution_count": 3,
   "metadata": {},
   "outputs": [
    {
     "data": {
      "text/plain": [
       "(torch.Size([3, 4, 5]), torch.Size([3, 4, 5]))"
      ]
     },
     "execution_count": 3,
     "metadata": {},
     "output_type": "execute_result"
    }
   ],
   "source": [
    "# Выведите его форму (shape)\n",
    "sample.shape, sample.size()"
   ]
  },
  {
   "cell_type": "code",
   "execution_count": 4,
   "metadata": {},
   "outputs": [
    {
     "data": {
      "text/plain": [
       "(tensor([[0.5470, 0.0529, 0.1411, 0.1802, 0.6769, 0.9297, 0.0542, 0.4287, 0.5877,\n",
       "          0.9818],\n",
       "         [0.7895, 0.6046, 0.0298, 0.6047, 0.3096, 0.2880, 0.5222, 0.8619, 0.0921,\n",
       "          0.4833],\n",
       "         [0.7121, 0.6944, 0.3056, 0.6873, 0.3792, 0.0486, 0.8438, 0.5499, 0.9812,\n",
       "          0.0215],\n",
       "         [0.3294, 0.7302, 0.1312, 0.7228, 0.2353, 0.4042, 0.6822, 0.9641, 0.3723,\n",
       "          0.4117],\n",
       "         [0.9883, 0.4195, 0.7218, 0.1472, 0.2721, 0.3123, 0.9089, 0.0907, 0.0727,\n",
       "          0.6995],\n",
       "         [0.2787, 0.9776, 0.1942, 0.2020, 0.3111, 0.7782, 0.5417, 0.0497, 0.2736,\n",
       "          0.4019]]),\n",
       " torch.Size([6, 10]))"
      ]
     },
     "execution_count": 4,
     "metadata": {},
     "output_type": "execute_result"
    }
   ],
   "source": [
    "# Приведите его к форме 6 X 10\n",
    "sample_reshape = sample.reshape((6, 10))\n",
    "sample_reshape, sample_reshape.size()"
   ]
  },
  {
   "cell_type": "code",
   "execution_count": 5,
   "metadata": {},
   "outputs": [
    {
     "data": {
      "text/plain": [
       "tensor([[0.5470, 0.2116, 0.2822, 0.3604, 0.6769],\n",
       "        [0.9297, 0.2167, 0.8575, 1.1755, 0.9818],\n",
       "        [0.7895, 2.4183, 0.0597, 1.2095, 0.3096],\n",
       "        [0.2880, 2.0887, 1.7238, 0.1841, 0.4833],\n",
       "        [0.7121, 2.7775, 0.6113, 1.3746, 0.3792],\n",
       "        [0.0486, 3.3753, 1.0999, 1.9625, 0.0215],\n",
       "        [0.3294, 2.9208, 0.2625, 1.4457, 0.2353],\n",
       "        [0.4042, 2.7288, 1.9281, 0.7446, 0.4117],\n",
       "        [0.9883, 1.6781, 1.4435, 0.2944, 0.2721],\n",
       "        [0.3123, 3.6357, 0.1815, 0.1454, 0.6995],\n",
       "        [0.2787, 3.9105, 0.3884, 0.4041, 0.3111],\n",
       "        [0.7782, 2.1670, 0.0994, 0.5472, 0.4019]], device='cuda:0')"
      ]
     },
     "execution_count": 5,
     "metadata": {},
     "output_type": "execute_result"
    }
   ],
   "source": [
    "# Умножьте его на вектор [1, 4, 2, 2, 1] поэлементно\n",
    "sample_reshape = sample_reshape.cuda()\n",
    "res = sample_reshape.reshape((-1, 5)) * torch.tensor([1, 4, 2, 2, 1]).type(torch.int).cuda()\n",
    "res"
   ]
  },
  {
   "cell_type": "code",
   "execution_count": 6,
   "metadata": {},
   "outputs": [
    {
     "data": {
      "text/plain": [
       "(tensor([[3.1731, 1.9808, 1.7743, 1.9758, 1.9833, 1.8083],\n",
       "         [1.9808, 2.7913, 2.5529, 2.7513, 2.2159, 1.8047],\n",
       "         [1.7743, 2.5529, 3.6790, 2.8668, 2.3378, 1.9931],\n",
       "         [1.9758, 2.7513, 2.8668, 3.1020, 2.0453, 2.0497],\n",
       "         [1.9833, 2.2159, 2.3378, 2.0453, 3.1954, 1.9812],\n",
       "         [1.8083, 1.8047, 1.9931, 2.0497, 1.9812, 2.3470]], device='cuda:0'),\n",
       " torch.Size([6, 6]))"
      ]
     },
     "execution_count": 6,
     "metadata": {},
     "output_type": "execute_result"
    }
   ],
   "source": [
    "# Умножьте тензор матрично на себя, чтобы результат был размерности 6x6\n",
    "res_2 = sample_reshape @ sample_reshape.T\n",
    "res_2, res_2.size()"
   ]
  },
  {
   "cell_type": "code",
   "execution_count": 7,
   "metadata": {},
   "outputs": [
    {
     "name": "stdout",
     "output_type": "stream",
     "text": [
      "y([1, 0.5, 2]): -148.5\n",
      "derivative: -71.0\n"
     ]
    }
   ],
   "source": [
    "# Посчитайте производную функции y = x**3 + z - 75t в точке (1, 0.5, 2)\n",
    "x = torch.tensor([1.0], requires_grad=True)\n",
    "z = torch.tensor([0.5], requires_grad=True)\n",
    "t = torch.tensor([2.0], requires_grad=True)\n",
    "\n",
    "y = x ** 3 + z - 75 * t\n",
    "\n",
    "print(f'y([1, 0.5, 2]): {y.item()}\\nderivative: {(3 * x ** 2 + 1 - 75).item()}')"
   ]
  },
  {
   "cell_type": "code",
   "execution_count": 8,
   "metadata": {},
   "outputs": [
    {
     "data": {
      "text/plain": [
       "tensor([[1., 1., 1., 1., 1., 1.],\n",
       "        [1., 1., 1., 1., 1., 1.],\n",
       "        [1., 1., 1., 1., 1., 1.],\n",
       "        [1., 1., 1., 1., 1., 1.],\n",
       "        [1., 1., 1., 1., 1., 1.]])"
      ]
     },
     "execution_count": 8,
     "metadata": {},
     "output_type": "execute_result"
    }
   ],
   "source": [
    "# Создайте единичный тензор размера 5x6\n",
    "ones = torch.ones((5, 6))\n",
    "ones"
   ]
  },
  {
   "cell_type": "code",
   "execution_count": 9,
   "metadata": {},
   "outputs": [
    {
     "data": {
      "text/plain": [
       "array([[1., 1., 1., 1., 1., 1.],\n",
       "       [1., 1., 1., 1., 1., 1.],\n",
       "       [1., 1., 1., 1., 1., 1.],\n",
       "       [1., 1., 1., 1., 1., 1.],\n",
       "       [1., 1., 1., 1., 1., 1.]], dtype=float32)"
      ]
     },
     "execution_count": 9,
     "metadata": {},
     "output_type": "execute_result"
    }
   ],
   "source": [
    "# Переведите его в формат numpy\n",
    "ones.numpy()"
   ]
  },
  {
   "cell_type": "code",
   "execution_count": 10,
   "metadata": {},
   "outputs": [],
   "source": [
    "# Давайте теперь пооптимизируем: возьмите функцию y = x**w1 - 2 * x**2 + 5\n",
    "# Посчитайте \n",
    "\n",
    "# ответ: что посчитать? "
   ]
  }
 ],
 "metadata": {
  "kernelspec": {
   "display_name": "Python 3 (ipykernel)",
   "language": "python",
   "name": "python3"
  },
  "language_info": {
   "codemirror_mode": {
    "name": "ipython",
    "version": 3
   },
   "file_extension": ".py",
   "mimetype": "text/x-python",
   "name": "python",
   "nbconvert_exporter": "python",
   "pygments_lexer": "ipython3",
   "version": "3.9.5"
  }
 },
 "nbformat": 4,
 "nbformat_minor": 4
}
