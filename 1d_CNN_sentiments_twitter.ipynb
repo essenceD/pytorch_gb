{
 "cells": [
  {
   "cell_type": "markdown",
   "id": "5731fe82-e32e-4b89-968e-806d635e52fc",
   "metadata": {},
   "source": [
    "1. Попробуйте обучить нейронную сеть с применением одномерных сверток для предсказания сентимента сообщений с твитера на примере https://www.kaggle.com/datasets/arkhoshghalb/twitter-sentiment-analysis-hatred-speech\n",
    "\n",
    "2. Опишите, какой результат вы получили? Что помогло вам улучшить ее точность?"
   ]
  },
  {
   "cell_type": "markdown",
   "id": "3e9ac6bd-8d81-465e-ba9f-f84d2a2606a2",
   "metadata": {},
   "source": [
    "# КОНТЕКСТ\n",
    "Цель этой задачи — обнаружить язык ненависти в твитах. Для простоты мы говорим, что твит содержит разжигание ненависти, если с ним связаны расистские или сексистские настроения. Итак, задача состоит в том, чтобы отделить расистские или сексистские твиты от других твитов.\n",
    "\n",
    "Формально, учитывая обучающую выборку твитов и ярлыков, где метка «1» означает, что твит является расистским/сексистским, а метка «0» означает, что твит не является расистским/сексистским, ваша цель состоит в том, чтобы предсказать метки в тестовом наборе данных."
   ]
  },
  {
   "cell_type": "code",
   "execution_count": 1,
   "id": "fe2bc428-0253-4e5b-aa93-b861f18d3e96",
   "metadata": {},
   "outputs": [],
   "source": [
    "import torch\n",
    "import torch.nn as nn\n",
    "import torch.nn.functional as F\n",
    "from torch.utils.data import DataLoader, Dataset\n",
    "\n",
    "import pandas as pd\n",
    "import numpy as np\n",
    "import matplotlib.pyplot as plt\n",
    "from sklearn.model_selection import train_test_split\n",
    "\n",
    "import re\n",
    "from tqdm import tqdm \n",
    "\n",
    "import nltk\n",
    "\n",
    "from nltk.tokenize import word_tokenize\n",
    "from string import punctuation\n",
    "from stop_words import get_stop_words\n",
    "# from pymorphy2 import MorphAnalyzer\n",
    "from nltk.stem import WordNetLemmatizer\n",
    "from nltk.probability import FreqDist"
   ]
  },
  {
   "cell_type": "code",
   "execution_count": 2,
   "id": "424fc851-af78-4713-a4d3-b3926acee9c2",
   "metadata": {},
   "outputs": [
    {
     "data": {
      "text/plain": [
       "((31962, 3), (17197, 2))"
      ]
     },
     "execution_count": 2,
     "metadata": {},
     "output_type": "execute_result"
    }
   ],
   "source": [
    "train_df = pd.read_csv('./twit/train.csv')\n",
    "test_df = pd.read_csv('./twit/test.csv')\n",
    "train_df.shape, test_df.shape"
   ]
  },
  {
   "cell_type": "code",
   "execution_count": 3,
   "id": "0d1fef25-e9cd-45a8-aa5c-7cb4c4ea256c",
   "metadata": {},
   "outputs": [
    {
     "data": {
      "text/html": [
       "<div>\n",
       "<style scoped>\n",
       "    .dataframe tbody tr th:only-of-type {\n",
       "        vertical-align: middle;\n",
       "    }\n",
       "\n",
       "    .dataframe tbody tr th {\n",
       "        vertical-align: top;\n",
       "    }\n",
       "\n",
       "    .dataframe thead th {\n",
       "        text-align: right;\n",
       "    }\n",
       "</style>\n",
       "<table border=\"1\" class=\"dataframe\">\n",
       "  <thead>\n",
       "    <tr style=\"text-align: right;\">\n",
       "      <th></th>\n",
       "      <th>id</th>\n",
       "      <th>label</th>\n",
       "      <th>tweet</th>\n",
       "    </tr>\n",
       "  </thead>\n",
       "  <tbody>\n",
       "    <tr>\n",
       "      <th>0</th>\n",
       "      <td>1</td>\n",
       "      <td>0</td>\n",
       "      <td>@user when a father is dysfunctional and is s...</td>\n",
       "    </tr>\n",
       "    <tr>\n",
       "      <th>1</th>\n",
       "      <td>2</td>\n",
       "      <td>0</td>\n",
       "      <td>@user @user thanks for #lyft credit i can't us...</td>\n",
       "    </tr>\n",
       "    <tr>\n",
       "      <th>2</th>\n",
       "      <td>3</td>\n",
       "      <td>0</td>\n",
       "      <td>bihday your majesty</td>\n",
       "    </tr>\n",
       "    <tr>\n",
       "      <th>3</th>\n",
       "      <td>4</td>\n",
       "      <td>0</td>\n",
       "      <td>#model   i love u take with u all the time in ...</td>\n",
       "    </tr>\n",
       "    <tr>\n",
       "      <th>4</th>\n",
       "      <td>5</td>\n",
       "      <td>0</td>\n",
       "      <td>factsguide: society now    #motivation</td>\n",
       "    </tr>\n",
       "  </tbody>\n",
       "</table>\n",
       "</div>"
      ],
      "text/plain": [
       "   id  label                                              tweet\n",
       "0   1      0   @user when a father is dysfunctional and is s...\n",
       "1   2      0  @user @user thanks for #lyft credit i can't us...\n",
       "2   3      0                                bihday your majesty\n",
       "3   4      0  #model   i love u take with u all the time in ...\n",
       "4   5      0             factsguide: society now    #motivation"
      ]
     },
     "execution_count": 3,
     "metadata": {},
     "output_type": "execute_result"
    }
   ],
   "source": [
    "train_df.head()"
   ]
  },
  {
   "cell_type": "code",
   "execution_count": 4,
   "id": "92fedbc0-181b-4e41-8c38-9317fa11531d",
   "metadata": {},
   "outputs": [
    {
     "data": {
      "text/html": [
       "<div>\n",
       "<style scoped>\n",
       "    .dataframe tbody tr th:only-of-type {\n",
       "        vertical-align: middle;\n",
       "    }\n",
       "\n",
       "    .dataframe tbody tr th {\n",
       "        vertical-align: top;\n",
       "    }\n",
       "\n",
       "    .dataframe thead th {\n",
       "        text-align: right;\n",
       "    }\n",
       "</style>\n",
       "<table border=\"1\" class=\"dataframe\">\n",
       "  <thead>\n",
       "    <tr style=\"text-align: right;\">\n",
       "      <th></th>\n",
       "      <th>id</th>\n",
       "      <th>tweet</th>\n",
       "    </tr>\n",
       "  </thead>\n",
       "  <tbody>\n",
       "    <tr>\n",
       "      <th>0</th>\n",
       "      <td>31963</td>\n",
       "      <td>#studiolife #aislife #requires #passion #dedic...</td>\n",
       "    </tr>\n",
       "    <tr>\n",
       "      <th>1</th>\n",
       "      <td>31964</td>\n",
       "      <td>@user #white #supremacists want everyone to s...</td>\n",
       "    </tr>\n",
       "    <tr>\n",
       "      <th>2</th>\n",
       "      <td>31965</td>\n",
       "      <td>safe ways to heal your #acne!!    #altwaystohe...</td>\n",
       "    </tr>\n",
       "    <tr>\n",
       "      <th>3</th>\n",
       "      <td>31966</td>\n",
       "      <td>is the hp and the cursed child book up for res...</td>\n",
       "    </tr>\n",
       "    <tr>\n",
       "      <th>4</th>\n",
       "      <td>31967</td>\n",
       "      <td>3rd #bihday to my amazing, hilarious #nephew...</td>\n",
       "    </tr>\n",
       "  </tbody>\n",
       "</table>\n",
       "</div>"
      ],
      "text/plain": [
       "      id                                              tweet\n",
       "0  31963  #studiolife #aislife #requires #passion #dedic...\n",
       "1  31964   @user #white #supremacists want everyone to s...\n",
       "2  31965  safe ways to heal your #acne!!    #altwaystohe...\n",
       "3  31966  is the hp and the cursed child book up for res...\n",
       "4  31967    3rd #bihday to my amazing, hilarious #nephew..."
      ]
     },
     "execution_count": 4,
     "metadata": {},
     "output_type": "execute_result"
    }
   ],
   "source": [
    "test_df.head()"
   ]
  },
  {
   "cell_type": "code",
   "execution_count": 5,
   "id": "82fd1db2-adfd-44d5-8565-f83f773688ae",
   "metadata": {},
   "outputs": [
    {
     "data": {
      "text/plain": [
       "((22373, 3), (9589, 3))"
      ]
     },
     "execution_count": 5,
     "metadata": {},
     "output_type": "execute_result"
    }
   ],
   "source": [
    "X_train, X_valid = train_test_split(train_df, test_size=0.3, random_state=42)\n",
    "X_train.shape, X_valid.shape"
   ]
  },
  {
   "cell_type": "code",
   "execution_count": 6,
   "id": "2fd2d4ff-d707-42c3-acc1-24684a9b0d8e",
   "metadata": {},
   "outputs": [
    {
     "data": {
      "text/plain": [
       "0    20815\n",
       "1     1558\n",
       "Name: label, dtype: int64"
      ]
     },
     "execution_count": 6,
     "metadata": {},
     "output_type": "execute_result"
    }
   ],
   "source": [
    "X_train.label.value_counts()"
   ]
  },
  {
   "cell_type": "code",
   "execution_count": 7,
   "id": "e3270dd5-2e33-4b13-8833-f366a7c596f0",
   "metadata": {},
   "outputs": [
    {
     "data": {
      "text/plain": [
       "0    8905\n",
       "1     684\n",
       "Name: label, dtype: int64"
      ]
     },
     "execution_count": 7,
     "metadata": {},
     "output_type": "execute_result"
    }
   ],
   "source": [
    "X_valid.label.value_counts()"
   ]
  },
  {
   "cell_type": "markdown",
   "id": "00fc2f42-e6a1-4ba1-a165-7e6a69099b65",
   "metadata": {},
   "source": [
    "Виден дисбаланс классов"
   ]
  },
  {
   "cell_type": "code",
   "execution_count": 8,
   "id": "442baaaa-d782-4dfb-b3c4-9c89ce486e57",
   "metadata": {},
   "outputs": [
    {
     "data": {
      "text/plain": [
       "174"
      ]
     },
     "execution_count": 8,
     "metadata": {},
     "output_type": "execute_result"
    }
   ],
   "source": [
    "stop_words = set(get_stop_words('english'))\n",
    "len(stop_words)"
   ]
  },
  {
   "cell_type": "code",
   "execution_count": 9,
   "id": "ee0951f3-0d0b-4ef7-92ca-ec2b9c46cec6",
   "metadata": {},
   "outputs": [
    {
     "data": {
      "text/plain": [
       "32"
      ]
     },
     "execution_count": 9,
     "metadata": {},
     "output_type": "execute_result"
    }
   ],
   "source": [
    "puncts = set(punctuation)\n",
    "len(puncts)"
   ]
  },
  {
   "cell_type": "code",
   "execution_count": 29,
   "id": "2b3aaad2-8bde-45da-b983-5439f2f199d7",
   "metadata": {},
   "outputs": [
    {
     "data": {
      "text/plain": [
       "'life'"
      ]
     },
     "execution_count": 29,
     "metadata": {},
     "output_type": "execute_result"
    }
   ],
   "source": [
    "morpher = WordNetLemmatizer()\n",
    "morpher.lemmatize('lives')"
   ]
  },
  {
   "cell_type": "code",
   "execution_count": 30,
   "id": "8860b72f-2272-4587-b481-2a15a556f3fb",
   "metadata": {},
   "outputs": [],
   "source": [
    "def preprocess_text(txt):\n",
    "    txt = str(txt)\n",
    "    # удаляем знаки препинания\n",
    "    txt = ''.join(symbol for symbol in txt if symbol not in puncts)\n",
    "    txt = txt.lower()\n",
    "    # удаляем слова из стоп-листа\n",
    "    txt = [morpher.lemmatize(word) for word in txt.split() if word not in stop_words]\n",
    "    return ' '.join(txt)"
   ]
  },
  {
   "cell_type": "code",
   "execution_count": 34,
   "id": "4dc661e8-9aae-4f87-bfd7-987dd9951861",
   "metadata": {},
   "outputs": [
    {
     "name": "stderr",
     "output_type": "stream",
     "text": [
      "100%|████████████████████████████████████████████████| 22373/22373 [00:00<00:00, 25039.33it/s]\n",
      "100%|██████████████████████████████████████████████████| 9589/9589 [00:00<00:00, 24904.63it/s]\n",
      "100%|████████████████████████████████████████████████| 17197/17197 [00:00<00:00, 24121.49it/s]\n"
     ]
    }
   ],
   "source": [
    "from tqdm import tqdm \n",
    "tqdm.pandas()\n",
    "\n",
    "X_train['tweet'] = X_train['tweet'].progress_apply(preprocess_text)\n",
    "X_valid['tweet'] = X_valid['tweet'].progress_apply(preprocess_text)\n",
    "test_df['tweet'] = test_df['tweet'].progress_apply(preprocess_text)"
   ]
  },
  {
   "cell_type": "code",
   "execution_count": 41,
   "id": "db066127-fff8-4b4d-8e2a-7c77869827dd",
   "metadata": {},
   "outputs": [
    {
     "data": {
      "text/plain": [
       "['summer',\n",
       " 'timeð\\x9f\\x8c',\n",
       " 'summeriscoming',\n",
       " 'swimming',\n",
       " 'picoftheday',\n",
       " 'tattoo',\n",
       " 'issho',\n",
       " 'pulsera',\n",
       " 'fluyendo',\n",
       " 'â\\x80¦']"
      ]
     },
     "execution_count": 41,
     "metadata": {},
     "output_type": "execute_result"
    }
   ],
   "source": [
    "# генерация токенов\n",
    "tokens = word_tokenize(\" \".join(X_train[\"tweet\"]).lower())\n",
    "tokens[:10]"
   ]
  },
  {
   "cell_type": "code",
   "execution_count": 42,
   "id": "df5a7a6e-a1a0-4f21-af23-c44fb2152f45",
   "metadata": {},
   "outputs": [
    {
     "data": {
      "text/plain": [
       "['summer',\n",
       " 'summeriscoming',\n",
       " 'swimming',\n",
       " 'picoftheday',\n",
       " 'tattoo',\n",
       " 'issho',\n",
       " 'pulsera',\n",
       " 'fluyendo',\n",
       " 'dese',\n",
       " 'nigga']"
      ]
     },
     "execution_count": 42,
     "metadata": {},
     "output_type": "execute_result"
    }
   ],
   "source": [
    "# фильтр, чтобы оставить только цифры и слова\n",
    "tokens_filtered = [word for word in tokens if word.isalnum()]\n",
    "tokens_filtered[:10]"
   ]
  },
  {
   "cell_type": "code",
   "execution_count": 43,
   "id": "c365e085-4d82-4b51-8df3-58b6e53005e3",
   "metadata": {},
   "outputs": [
    {
     "data": {
      "text/plain": [
       "FreqDist({'user': 12209, 'love': 1886, 'day': 1875, 'happy': 1183, 'u': 1161, 'amp': 1099, 'just': 940, 'will': 881, 'time': 851, 'life': 844, ...})"
      ]
     },
     "execution_count": 43,
     "metadata": {},
     "output_type": "execute_result"
    }
   ],
   "source": [
    "# частота вхождения токенов\n",
    "dist = FreqDist(tokens_filtered)\n",
    "dist"
   ]
  },
  {
   "cell_type": "code",
   "execution_count": 47,
   "id": "cff6bb75-c5fd-4b89-823b-aa123084d9e7",
   "metadata": {},
   "outputs": [
    {
     "data": {
      "text/plain": [
       "(1999,\n",
       " ['user', 'love', 'day', 'happy', 'u', 'amp', 'just', 'will', 'time', 'life'])"
      ]
     },
     "execution_count": 47,
     "metadata": {},
     "output_type": "execute_result"
    }
   ],
   "source": [
    "# топ частых слов\n",
    "max_words = 2000\n",
    "# 2000 самых частых\n",
    "tokens_filtered_top = [pair[0] for pair in dist.most_common(max_words-1)]  # вычитание 1 для padding\n",
    "len(tokens_filtered_top), tokens_filtered_top[:10]"
   ]
  },
  {
   "cell_type": "code",
   "execution_count": 53,
   "id": "f260522b-054f-4ae3-826d-5e2dabd6d728",
   "metadata": {},
   "outputs": [
    {
     "name": "stdout",
     "output_type": "stream",
     "text": [
      "user: 1\n",
      "love: 2\n",
      "day: 3\n",
      "happy: 4\n",
      "u: 5\n",
      "amp: 6\n",
      "just: 7\n",
      "will: 8\n",
      "time: 9\n",
      "life: 10\n"
     ]
    }
   ],
   "source": [
    "# словарь из частых слов и присвоение им индексов\n",
    "vocabulary = {token: index for index, token in dict(enumerate(tokens_filtered_top, 1)).items()}\n",
    "for token, idx in vocabulary.items():\n",
    "    print(f'{token}: {idx}')\n",
    "    if idx == 10:\n",
    "        break"
   ]
  },
  {
   "cell_type": "code",
   "execution_count": 54,
   "id": "a9d27ab1-d378-4841-9bb9-de068f61fa34",
   "metadata": {},
   "outputs": [],
   "source": [
    "#преобразование текста в последовательность\n",
    "def text_to_sequence(text, maxlen):\n",
    "    result = []\n",
    "    tokens = word_tokenize(text.lower())  #токенизация\n",
    "    tokens_filtered = [word for word in tokens if word.isalnum()] #фильтруем (только буквы и цифры)\n",
    "    for word in tokens_filtered:\n",
    "        if word in vocabulary:\n",
    "            result.append(vocabulary[word]) #если слово в топе токенов, то добавляем его индекс в результат\n",
    "\n",
    "    padding = [0] * (maxlen-len(result)) #нули дополняющие до maxlen\n",
    "    return result[-maxlen:] + padding"
   ]
  },
  {
   "cell_type": "code",
   "execution_count": 55,
   "id": "70f28901-bdd0-4db1-a592-ee86ef73878e",
   "metadata": {},
   "outputs": [
    {
     "data": {
      "text/plain": [
       "((22373, 20), (9589, 20), (17197, 20))"
      ]
     },
     "execution_count": 55,
     "metadata": {},
     "output_type": "execute_result"
    }
   ],
   "source": [
    "max_len = 20\n",
    "x_train = np.asarray([text_to_sequence(text, max_len) for text in X_train['tweet']])\n",
    "x_valid = np.asarray([text_to_sequence(text, max_len) for text in X_valid['tweet']])\n",
    "x_test = np.asarray([text_to_sequence(text, max_len) for text in test_df['tweet']])\n",
    "\n",
    "x_train.shape, x_valid.shape, x_test.shape"
   ]
  },
  {
   "cell_type": "code",
   "execution_count": 58,
   "id": "c8570fad-0cc1-4378-8d76-6f90fb27dd81",
   "metadata": {},
   "outputs": [
    {
     "data": {
      "text/plain": [
       "'summer timeð\\x9f\\x8c summeriscoming swimming picoftheday tattoo issho pulsera fluyendo â\\x80¦'"
      ]
     },
     "execution_count": 58,
     "metadata": {},
     "output_type": "execute_result"
    }
   ],
   "source": [
    "# что было\n",
    "X_train.tweet.iloc[0]"
   ]
  },
  {
   "cell_type": "code",
   "execution_count": 59,
   "id": "0e01007c-22ed-4941-9c09-fe0b50b5a787",
   "metadata": {},
   "outputs": [
    {
     "data": {
      "text/plain": [
       "array([  44, 1101,  585, 1383,    0,    0,    0,    0,    0,    0,    0,\n",
       "          0,    0,    0,    0,    0,    0,    0,    0,    0])"
      ]
     },
     "execution_count": 59,
     "metadata": {},
     "output_type": "execute_result"
    }
   ],
   "source": [
    "# что стало\n",
    "x_train[0]"
   ]
  },
  {
   "cell_type": "code",
   "execution_count": 60,
   "id": "e69d0a7f-547d-471e-b435-8c5a73a4c7b7",
   "metadata": {},
   "outputs": [],
   "source": [
    "class DataWrapper(Dataset):\n",
    "    def __init__(self, data, target, transform=None):\n",
    "        self.data = torch.from_numpy(data).long() #преобразуем в целочисленный тензор\n",
    "        self.target = torch.from_numpy(target).long() #преобразуем в целочисленный тензор\n",
    "        self.transform = transform\n",
    "        \n",
    "    def __getitem__(self, index):\n",
    "        x = self.data[index]  #индексация данных\n",
    "        y = self.target[index]  #индексация целевой переменной\n",
    "        \n",
    "        if self.transform:\n",
    "            x = self.transform(x)\n",
    "            \n",
    "        return x, y\n",
    "    \n",
    "    def __len__(self):\n",
    "        return len(self.data)"
   ]
  },
  {
   "cell_type": "code",
   "execution_count": 61,
   "id": "34d0f821-49a2-4dd1-8a38-d810346294b5",
   "metadata": {},
   "outputs": [],
   "source": [
    "train_dataset = DataWrapper(x_train, X_train.label.values)\n",
    "train_loader = DataLoader(train_dataset, batch_size=100, shuffle=True)\n",
    "\n",
    "valid_dataset = DataWrapper(x_valid, X_valid.label.values)\n",
    "valid_loader = DataLoader(valid_dataset, batch_size=8, shuffle=True)"
   ]
  },
  {
   "cell_type": "code",
   "execution_count": 69,
   "id": "c5413123-b7a6-4b90-b974-e7d2e0eb2475",
   "metadata": {},
   "outputs": [
    {
     "name": "stdout",
     "output_type": "stream",
     "text": [
      "data: tensor([231,  48, 388,   0,   0,   0,   0,   0,   0,   0,   0,   0,   0,   0,\n",
      "          0,   0,   0,   0,   0,   0])\n",
      "samples: 100\n",
      "class: \"0\"\n",
      "samples: 100\n"
     ]
    }
   ],
   "source": [
    "for x, l in train_loader:\n",
    "    print(f'data: {x[0]}\\nsamples: {x.shape[0]}\\nclass: \"{l[0]}\"\\nsamples: {l.shape[0]}')    \n",
    "    break"
   ]
  },
  {
   "cell_type": "code",
   "execution_count": 70,
   "id": "fda94c2b-e299-4b9e-be58-1502373f61cb",
   "metadata": {},
   "outputs": [],
   "source": [
    "class Net(nn.Module):\n",
    "    def __init__(self, vocab_size=2000, embedding_dim=128, out_channel=128, num_classes = 1):\n",
    "        super().__init__()\n",
    "        self.embedding = nn.Embedding(vocab_size, embedding_dim)\n",
    "        self.conv_1 = nn.Conv1d(embedding_dim, out_channel, kernel_size=2)\n",
    "        self.conv_2 = nn.Conv1d(embedding_dim, out_channel, kernel_size=3)\n",
    "        self.pool = nn.MaxPool1d(2)\n",
    "        self.relu = nn.ReLU()\n",
    "        self.linear_1 = nn.Linear(out_channel, out_channel // 2)\n",
    "        self.linear_2 = nn.Linear(out_channel // 2, num_classes)\n",
    "        \n",
    "    def forward(self, x):        \n",
    "        output = self.embedding(x) # B, L, E\n",
    "        #                       B  E  L         \n",
    "        output = output.permute(0, 2, 1)\n",
    "        output = self.conv_1(output)\n",
    "        output = self.relu(output)\n",
    "        output = self.pool(output)\n",
    "\n",
    "        output = self.conv_2(output)\n",
    "        output = self.relu(output)\n",
    "        output = self.pool(output)\n",
    "        output = torch.max(output, axis=2).values\n",
    "        output = self.linear_1(output)\n",
    "        output = self.relu(output)\n",
    "        output = self.linear_2(output)\n",
    "        output = torch.sigmoid(output)\n",
    "        return output"
   ]
  },
  {
   "cell_type": "code",
   "execution_count": 73,
   "id": "af978ee8-a35f-4ba2-b801-dc9ef740a46e",
   "metadata": {},
   "outputs": [
    {
     "data": {
      "text/plain": [
       "device(type='cuda', index=0)"
      ]
     },
     "execution_count": 73,
     "metadata": {},
     "output_type": "execute_result"
    }
   ],
   "source": [
    "device = torch.device('cuda:0' if torch.cuda.is_available() else 'cpu')\n",
    "device"
   ]
  },
  {
   "cell_type": "code",
   "execution_count": 74,
   "id": "5d5b6537-8e9b-42b1-9a03-c2281681fb6f",
   "metadata": {},
   "outputs": [
    {
     "name": "stdout",
     "output_type": "stream",
     "text": [
      "Net(\n",
      "  (embedding): Embedding(2000, 128)\n",
      "  (conv_1): Conv1d(128, 128, kernel_size=(2,), stride=(1,))\n",
      "  (conv_2): Conv1d(128, 128, kernel_size=(3,), stride=(1,))\n",
      "  (pool): MaxPool1d(kernel_size=2, stride=2, padding=0, dilation=1, ceil_mode=False)\n",
      "  (relu): ReLU()\n",
      "  (linear_1): Linear(in_features=128, out_features=64, bias=True)\n",
      "  (linear_2): Linear(in_features=64, out_features=1, bias=True)\n",
      ")\n"
     ]
    }
   ],
   "source": [
    "model = Net().to(device)\n",
    "print(model)"
   ]
  },
  {
   "cell_type": "code",
   "execution_count": 80,
   "id": "4ad94540-5f0c-40f3-8aae-596065ec64d5",
   "metadata": {},
   "outputs": [],
   "source": [
    "optimizer = torch.optim.Adam(model.parameters(), lr=1e-4)\n",
    "criterion = nn.BCELoss()"
   ]
  },
  {
   "cell_type": "code",
   "execution_count": 81,
   "id": "8c0b1f81-5bd6-41f7-9dea-f24eec1aa540",
   "metadata": {},
   "outputs": [
    {
     "name": "stdout",
     "output_type": "stream",
     "text": [
      "Epoch [1/10]. Step [1/224]. Loss: 0.006. Acc: 1.000. Val loss: 0.013. Val acc: 0.935\n",
      "Epoch [1/10]. Step [151/224]. Loss: 0.051. Acc: 0.996. Val loss: 0.000. Val acc: 0.943\n",
      "Epoch [2/10]. Step [1/224]. Loss: 0.028. Acc: 0.990. Val loss: 0.000. Val acc: 0.944\n",
      "Epoch [2/10]. Step [151/224]. Loss: 0.010. Acc: 0.998. Val loss: 0.184. Val acc: 0.944\n",
      "Epoch [3/10]. Step [1/224]. Loss: 0.004. Acc: 1.000. Val loss: 0.001. Val acc: 0.944\n",
      "Epoch [3/10]. Step [151/224]. Loss: 0.002. Acc: 0.998. Val loss: 0.000. Val acc: 0.944\n",
      "Epoch [4/10]. Step [1/224]. Loss: 0.002. Acc: 1.000. Val loss: 0.572. Val acc: 0.944\n",
      "Epoch [4/10]. Step [151/224]. Loss: 0.000. Acc: 0.999. Val loss: 0.000. Val acc: 0.944\n",
      "Epoch [5/10]. Step [1/224]. Loss: 0.002. Acc: 1.000. Val loss: 2.415. Val acc: 0.945\n",
      "Epoch [5/10]. Step [151/224]. Loss: 0.001. Acc: 0.998. Val loss: 1.367. Val acc: 0.945\n",
      "Epoch [6/10]. Step [1/224]. Loss: 0.002. Acc: 1.000. Val loss: 0.000. Val acc: 0.945\n",
      "Epoch [6/10]. Step [151/224]. Loss: 0.006. Acc: 0.998. Val loss: 1.247. Val acc: 0.945\n",
      "Epoch [7/10]. Step [1/224]. Loss: 0.004. Acc: 1.000. Val loss: 0.000. Val acc: 0.945\n",
      "Epoch [7/10]. Step [151/224]. Loss: 0.000. Acc: 0.999. Val loss: 0.000. Val acc: 0.945\n",
      "Epoch [8/10]. Step [1/224]. Loss: 0.012. Acc: 0.990. Val loss: 0.000. Val acc: 0.945\n",
      "Epoch [8/10]. Step [151/224]. Loss: 0.001. Acc: 0.998. Val loss: 0.000. Val acc: 0.945\n",
      "Epoch [9/10]. Step [1/224]. Loss: 0.000. Acc: 1.000. Val loss: 1.959. Val acc: 0.945\n",
      "Epoch [9/10]. Step [151/224]. Loss: 0.030. Acc: 0.999. Val loss: 0.000. Val acc: 0.945\n",
      "Epoch [10/10]. Step [1/224]. Loss: 0.001. Acc: 1.000. Val loss: 0.061. Val acc: 0.945\n",
      "Epoch [10/10]. Step [151/224]. Loss: 0.000. Acc: 0.999. Val loss: 0.000. Val acc: 0.945\n",
      "Training is finished!\n"
     ]
    }
   ],
   "source": [
    "#обучение модели\n",
    "model.train()\n",
    "th = 0.5\n",
    "epochs = 10\n",
    "\n",
    "train_loss_history = []\n",
    "valid_loss_history = []\n",
    "\n",
    "\n",
    "for epoch in range(epochs):  \n",
    "    running_items, running_right = 0.0, 0.0\n",
    "    for i, data in enumerate(train_loader, 0):\n",
    "        inputs, labels = data[0].to(device), data[1].to(device)\n",
    "        \n",
    "        # обучение\n",
    "        optimizer.zero_grad()\n",
    "        outputs = model(inputs)\n",
    "        loss = criterion(outputs, labels.float().view(-1, 1))\n",
    "        loss.backward()\n",
    "        optimizer.step()\n",
    "\n",
    "        # подсчет ошибки на обучении\n",
    "        loss = loss.item()\n",
    "        running_items += len(labels)\n",
    "       \n",
    "        # подсчет метрики на обучении\n",
    "        pred_labels = torch.squeeze((outputs > th).int())\n",
    "        running_right += (labels == pred_labels).sum()\n",
    "        \n",
    "        # выводим статистику о процессе обучения\n",
    "        if i % 150 == 0:    # печатаем каждые 150 batches\n",
    "            model.eval()\n",
    "            \n",
    "            print(f'Epoch [{epoch + 1}/{epochs}]. ' \\\n",
    "                  f'Step [{i + 1}/{len(train_loader)}]. ' \\\n",
    "                  f'Loss: {loss:.3f}. ' \\\n",
    "                  f'Acc: {running_right / running_items:.3f}', end='. ')\n",
    "            running_loss, running_items, running_right = 0.0, 0.0, 0.0\n",
    "            train_loss_history.append(loss)\n",
    "\n",
    "            # выводим статистику на тестовых данных\n",
    "            test_running_right, test_running_total, test_loss = 0.0, 0.0, 0.0\n",
    "            for j, data in enumerate(valid_loader):\n",
    "                test_labels = data[1].to(device)\n",
    "                test_outputs = model(data[0].to(device))\n",
    "                \n",
    "                # подсчет ошибки на тесте\n",
    "                test_loss = criterion(test_outputs, test_labels.float().view(-1, 1))\n",
    "                # подсчет метрики на тесте\n",
    "                test_running_total += len(data[1])\n",
    "                pred_test_labels = torch.squeeze((test_outputs > th).int())\n",
    "                test_running_right += (test_labels == pred_test_labels).sum()\n",
    "            \n",
    "            valid_loss_history.append(test_loss.item())\n",
    "            print(f'Val loss: {test_loss:.3f}. Val acc: {test_running_right / test_running_total:.3f}')\n",
    "        \n",
    "        model.train()\n",
    "        \n",
    "print('Training is finished!')"
   ]
  },
  {
   "cell_type": "code",
   "execution_count": 79,
   "id": "0ac136b5-1584-47f9-8c1a-effc34e99138",
   "metadata": {},
   "outputs": [
    {
     "data": {
      "text/plain": [
       "<matplotlib.legend.Legend at 0x1a1e1403550>"
      ]
     },
     "execution_count": 79,
     "metadata": {},
     "output_type": "execute_result"
    },
    {
     "data": {
      "image/png": "[encoded data removed]",
      "text/plain": [
       "<Figure size 432x288 with 1 Axes>"
      ]
     },
     "metadata": {
      "needs_background": "light"
     },
     "output_type": "display_data"
    }
   ],
   "source": [
    "plt.title('Loss history')\n",
    "plt.grid(True)\n",
    "plt.ylabel('Loss')\n",
    "plt.xlabel('Step')\n",
    "plt.plot(train_loss_history, label='train')\n",
    "plt.plot(valid_loss_history, label='valid')\n",
    "plt.legend()"
   ]
  },
  {
   "cell_type": "markdown",
   "id": "a7c59306-d11a-45cd-a24c-c1ae008865ee",
   "metadata": {},
   "source": [
    "Выводы: \n",
    "1. для данной модели не значительно количество эпох: метрики примерно одинаковые с первой эпохи.\n",
    "2. из-за простоты модели ее сложно испортить. Крутил все, что можно - примерно одинаковый результат.\n",
    "3. иногда подскакивает лосс на валидации. Думаю, что это связано с дисбалансом классов."
   ]
  },
  {
   "cell_type": "code",
   "execution_count": null,
   "id": "f51f065b-c35d-4e57-94bd-2d82438809aa",
   "metadata": {},
   "outputs": [],
   "source": []
  },
  {
   "cell_type": "code",
   "execution_count": null,
   "id": "914c48f9-b478-4d1e-ad18-dc02a80b4ab9",
   "metadata": {},
   "outputs": [],
   "source": []
  },
  {
   "cell_type": "code",
   "execution_count": null,
   "id": "68b6e65c-4f04-4156-a8f1-4765fad3f562",
   "metadata": {},
   "outputs": [],
   "source": []
  }
 ],
 "metadata": {
  "kernelspec": {
   "display_name": "Python 3 (ipykernel)",
   "language": "python",
   "name": "python3"
  },
  "language_info": {
   "codemirror_mode": {
    "name": "ipython",
    "version": 3
   },
   "file_extension": ".py",
   "mimetype": "text/x-python",
   "name": "python",
   "nbconvert_exporter": "python",
   "pygments_lexer": "ipython3",
   "version": "3.9.5"
  }
 },
 "nbformat": 4,
 "nbformat_minor": 5
}
